{
  "cells": [
    {
      "cell_type": "code",
      "source": [
        "#IMPORTING LIBRARIES\n",
        "import pandas as pd\n",
        "import time\n",
        "#FOR SPLITING DATA\n",
        "from sklearn.model_selection import train_test_split\n",
        "# FOR CONFUSION MATRIX\n",
        "from sklearn.metrics import confusion_matrix\n",
        "#IMPORTING ALL MODELS FROM SKLEARN\n",
        "from sklearn.linear_model import LogisticRegression\n",
        "from sklearn.ensemble import RandomForestClassifier\n",
        "from sklearn.tree import DecisionTreeClassifier\n",
        "from sklearn.naive_bayes import GaussianNB\n",
        "from sklearn.neighbors import KNeighborsClassifier"
      ],
      "metadata": {
        "id": "eyoTq5YL0tQl"
      },
      "id": "eyoTq5YL0tQl",
      "execution_count": 153,
      "outputs": []
    },
    {
      "cell_type": "markdown",
      "source": [
        "# **Confusion Matrix**"
      ],
      "metadata": {
        "id": "V6bAFNjzqxzy"
      },
      "id": "V6bAFNjzqxzy"
    },
    {
      "cell_type": "code",
      "source": [
        "# This function gives us the time value in miliseconds.\n",
        "def current_milli_time():\n",
        "    return round(time.time() * 1000)\n",
        "\n",
        "# This function calculates the accuracy rate of a confusion matrix.\n",
        "def calculate_AR(confusion_matrix):\n",
        "    return (confusion_matrix[0][0] + confusion_matrix[1][1]) / (confusion_matrix[0][0] + confusion_matrix[0][1] + confusion_matrix[1][0] + confusion_matrix[1][1])\n",
        "\n",
        "def print_values(algorithm:str, accuracy_rate:float, training_time:int):\n",
        "    print(algorithm, \"Accuracy rate\", accuracy_rate, \"Training time:\", training_time)"
      ],
      "metadata": {
        "id": "t58_vypv01lr"
      },
      "id": "t58_vypv01lr",
      "execution_count": 154,
      "outputs": []
    },
    {
      "cell_type": "code",
      "source": [
        "#LOADING DATASET\n",
        "df = pd.read_csv(\"/content/titanic data.csv\")"
      ],
      "metadata": {
        "id": "pHMeZyXv1LQ-"
      },
      "id": "pHMeZyXv1LQ-",
      "execution_count": 155,
      "outputs": []
    },
    {
      "cell_type": "code",
      "source": [
        "df.head()"
      ],
      "metadata": {
        "colab": {
          "base_uri": "https://localhost:8080/",
          "height": 206
        },
        "id": "v29o1bJTRsCr",
        "outputId": "d990e5f9-dd8c-4a9f-d41b-0c58b1698781"
      },
      "id": "v29o1bJTRsCr",
      "execution_count": 156,
      "outputs": [
        {
          "output_type": "execute_result",
          "data": {
            "text/plain": [
              "   Survived  Pclass     Sex   Age  SibSp  Parch      Fare Embarked  \\\n",
              "0         1       1  female  38.0      1      0  0.139136        C   \n",
              "1         1       1  female  35.0      1      0  0.103644        S   \n",
              "2         0       1    male  54.0      0      0  0.101229        S   \n",
              "3         1       3  female   4.0      1      1  0.032596        S   \n",
              "4         1       1  female  58.0      0      0  0.051822        S   \n",
              "\n",
              "               classification  cluster  \n",
              "0             female survided        0  \n",
              "1             female survided        0  \n",
              "2   younger men  not survival        1  \n",
              "3             female survided        2  \n",
              "4             female survided        1  "
            ],
            "text/html": [
              "\n",
              "  <div id=\"df-2ec6cbab-4c19-4cca-981b-6b160c51ee1a\">\n",
              "    <div class=\"colab-df-container\">\n",
              "      <div>\n",
              "<style scoped>\n",
              "    .dataframe tbody tr th:only-of-type {\n",
              "        vertical-align: middle;\n",
              "    }\n",
              "\n",
              "    .dataframe tbody tr th {\n",
              "        vertical-align: top;\n",
              "    }\n",
              "\n",
              "    .dataframe thead th {\n",
              "        text-align: right;\n",
              "    }\n",
              "</style>\n",
              "<table border=\"1\" class=\"dataframe\">\n",
              "  <thead>\n",
              "    <tr style=\"text-align: right;\">\n",
              "      <th></th>\n",
              "      <th>Survived</th>\n",
              "      <th>Pclass</th>\n",
              "      <th>Sex</th>\n",
              "      <th>Age</th>\n",
              "      <th>SibSp</th>\n",
              "      <th>Parch</th>\n",
              "      <th>Fare</th>\n",
              "      <th>Embarked</th>\n",
              "      <th>classification</th>\n",
              "      <th>cluster</th>\n",
              "    </tr>\n",
              "  </thead>\n",
              "  <tbody>\n",
              "    <tr>\n",
              "      <th>0</th>\n",
              "      <td>1</td>\n",
              "      <td>1</td>\n",
              "      <td>female</td>\n",
              "      <td>38.0</td>\n",
              "      <td>1</td>\n",
              "      <td>0</td>\n",
              "      <td>0.139136</td>\n",
              "      <td>C</td>\n",
              "      <td>female survided</td>\n",
              "      <td>0</td>\n",
              "    </tr>\n",
              "    <tr>\n",
              "      <th>1</th>\n",
              "      <td>1</td>\n",
              "      <td>1</td>\n",
              "      <td>female</td>\n",
              "      <td>35.0</td>\n",
              "      <td>1</td>\n",
              "      <td>0</td>\n",
              "      <td>0.103644</td>\n",
              "      <td>S</td>\n",
              "      <td>female survided</td>\n",
              "      <td>0</td>\n",
              "    </tr>\n",
              "    <tr>\n",
              "      <th>2</th>\n",
              "      <td>0</td>\n",
              "      <td>1</td>\n",
              "      <td>male</td>\n",
              "      <td>54.0</td>\n",
              "      <td>0</td>\n",
              "      <td>0</td>\n",
              "      <td>0.101229</td>\n",
              "      <td>S</td>\n",
              "      <td>younger men  not survival</td>\n",
              "      <td>1</td>\n",
              "    </tr>\n",
              "    <tr>\n",
              "      <th>3</th>\n",
              "      <td>1</td>\n",
              "      <td>3</td>\n",
              "      <td>female</td>\n",
              "      <td>4.0</td>\n",
              "      <td>1</td>\n",
              "      <td>1</td>\n",
              "      <td>0.032596</td>\n",
              "      <td>S</td>\n",
              "      <td>female survided</td>\n",
              "      <td>2</td>\n",
              "    </tr>\n",
              "    <tr>\n",
              "      <th>4</th>\n",
              "      <td>1</td>\n",
              "      <td>1</td>\n",
              "      <td>female</td>\n",
              "      <td>58.0</td>\n",
              "      <td>0</td>\n",
              "      <td>0</td>\n",
              "      <td>0.051822</td>\n",
              "      <td>S</td>\n",
              "      <td>female survided</td>\n",
              "      <td>1</td>\n",
              "    </tr>\n",
              "  </tbody>\n",
              "</table>\n",
              "</div>\n",
              "      <button class=\"colab-df-convert\" onclick=\"convertToInteractive('df-2ec6cbab-4c19-4cca-981b-6b160c51ee1a')\"\n",
              "              title=\"Convert this dataframe to an interactive table.\"\n",
              "              style=\"display:none;\">\n",
              "        \n",
              "  <svg xmlns=\"http://www.w3.org/2000/svg\" height=\"24px\"viewBox=\"0 0 24 24\"\n",
              "       width=\"24px\">\n",
              "    <path d=\"M0 0h24v24H0V0z\" fill=\"none\"/>\n",
              "    <path d=\"M18.56 5.44l.94 2.06.94-2.06 2.06-.94-2.06-.94-.94-2.06-.94 2.06-2.06.94zm-11 1L8.5 8.5l.94-2.06 2.06-.94-2.06-.94L8.5 2.5l-.94 2.06-2.06.94zm10 10l.94 2.06.94-2.06 2.06-.94-2.06-.94-.94-2.06-.94 2.06-2.06.94z\"/><path d=\"M17.41 7.96l-1.37-1.37c-.4-.4-.92-.59-1.43-.59-.52 0-1.04.2-1.43.59L10.3 9.45l-7.72 7.72c-.78.78-.78 2.05 0 2.83L4 21.41c.39.39.9.59 1.41.59.51 0 1.02-.2 1.41-.59l7.78-7.78 2.81-2.81c.8-.78.8-2.07 0-2.86zM5.41 20L4 18.59l7.72-7.72 1.47 1.35L5.41 20z\"/>\n",
              "  </svg>\n",
              "      </button>\n",
              "      \n",
              "  <style>\n",
              "    .colab-df-container {\n",
              "      display:flex;\n",
              "      flex-wrap:wrap;\n",
              "      gap: 12px;\n",
              "    }\n",
              "\n",
              "    .colab-df-convert {\n",
              "      background-color: #E8F0FE;\n",
              "      border: none;\n",
              "      border-radius: 50%;\n",
              "      cursor: pointer;\n",
              "      display: none;\n",
              "      fill: #1967D2;\n",
              "      height: 32px;\n",
              "      padding: 0 0 0 0;\n",
              "      width: 32px;\n",
              "    }\n",
              "\n",
              "    .colab-df-convert:hover {\n",
              "      background-color: #E2EBFA;\n",
              "      box-shadow: 0px 1px 2px rgba(60, 64, 67, 0.3), 0px 1px 3px 1px rgba(60, 64, 67, 0.15);\n",
              "      fill: #174EA6;\n",
              "    }\n",
              "\n",
              "    [theme=dark] .colab-df-convert {\n",
              "      background-color: #3B4455;\n",
              "      fill: #D2E3FC;\n",
              "    }\n",
              "\n",
              "    [theme=dark] .colab-df-convert:hover {\n",
              "      background-color: #434B5C;\n",
              "      box-shadow: 0px 1px 3px 1px rgba(0, 0, 0, 0.15);\n",
              "      filter: drop-shadow(0px 1px 2px rgba(0, 0, 0, 0.3));\n",
              "      fill: #FFFFFF;\n",
              "    }\n",
              "  </style>\n",
              "\n",
              "      <script>\n",
              "        const buttonEl =\n",
              "          document.querySelector('#df-2ec6cbab-4c19-4cca-981b-6b160c51ee1a button.colab-df-convert');\n",
              "        buttonEl.style.display =\n",
              "          google.colab.kernel.accessAllowed ? 'block' : 'none';\n",
              "\n",
              "        async function convertToInteractive(key) {\n",
              "          const element = document.querySelector('#df-2ec6cbab-4c19-4cca-981b-6b160c51ee1a');\n",
              "          const dataTable =\n",
              "            await google.colab.kernel.invokeFunction('convertToInteractive',\n",
              "                                                     [key], {});\n",
              "          if (!dataTable) return;\n",
              "\n",
              "          const docLinkHtml = 'Like what you see? Visit the ' +\n",
              "            '<a target=\"_blank\" href=https://colab.research.google.com/notebooks/data_table.ipynb>data table notebook</a>'\n",
              "            + ' to learn more about interactive tables.';\n",
              "          element.innerHTML = '';\n",
              "          dataTable['output_type'] = 'display_data';\n",
              "          await google.colab.output.renderOutput(dataTable, element);\n",
              "          const docLink = document.createElement('div');\n",
              "          docLink.innerHTML = docLinkHtml;\n",
              "          element.appendChild(docLink);\n",
              "        }\n",
              "      </script>\n",
              "    </div>\n",
              "  </div>\n",
              "  "
            ]
          },
          "metadata": {},
          "execution_count": 156
        }
      ]
    },
    {
      "cell_type": "code",
      "source": [
        "#SPLITING DATASET INTO TEST AND TRAIN MODEL\n",
        "x_train,x_test,y_train,y_test=train_test_split(X,y,test_size=0.2,random_state=0)"
      ],
      "metadata": {
        "id": "6eXxaOLu1hWS"
      },
      "id": "6eXxaOLu1hWS",
      "execution_count": 159,
      "outputs": []
    },
    {
      "cell_type": "markdown",
      "source": [
        "## Logistic Regression"
      ],
      "metadata": {
        "id": "aNxC9sk5MoAZ"
      },
      "id": "aNxC9sk5MoAZ"
    },
    {
      "cell_type": "code",
      "source": [
        "import numpy as np\n",
        "import pandas as pd\n",
        "from sklearn.linear_model import LogisticRegression\n",
        "from sklearn.preprocessing import LabelEncoder\n",
        " #LABEL ENCODER FOR CONVERTING STRING TO FLOAT\n",
        "le = LabelEncoder()\n",
        "df['Sex'] = le.fit_transform(df['Sex'])\n",
        "\n",
        "# SPLITING DATA INTO FEARURES AND TARGET\n",
        "X = df[['Survived', 'Pclass', 'Age', 'SibSp', 'Parch', 'Fare', 'Sex']]\n",
        "y = df['classification']\n",
        "\n",
        "#CREATING MODEL OF LOGISTIC REGRESSION\n",
        "model = LogisticRegression()\n",
        "\n",
        "#FITTING THE DATA IN MODEL\n",
        "model.fit(X, y)\n",
        "\n",
        "#PREDICTING THE CLASS LABEL FOR DATA\n",
        "predictions = model.predict(X)\n",
        "\n",
        "#ACCRACY OF REGRESSION\n",
        "accuracy_regression = model.score(X, y)\n",
        "print( model.score(X, y))\n",
        "\n"
      ],
      "metadata": {
        "colab": {
          "base_uri": "https://localhost:8080/"
        },
        "id": "FP_5sQarS_9q",
        "outputId": "44c5684d-b750-4b8a-a0ab-c16b3a6e4a23"
      },
      "id": "FP_5sQarS_9q",
      "execution_count": 161,
      "outputs": [
        {
          "output_type": "stream",
          "name": "stdout",
          "text": [
            "0.9791666666666666\n"
          ]
        },
        {
          "output_type": "stream",
          "name": "stderr",
          "text": [
            "/usr/local/lib/python3.10/dist-packages/sklearn/linear_model/_logistic.py:458: ConvergenceWarning: lbfgs failed to converge (status=1):\n",
            "STOP: TOTAL NO. of ITERATIONS REACHED LIMIT.\n",
            "\n",
            "Increase the number of iterations (max_iter) or scale the data as shown in:\n",
            "    https://scikit-learn.org/stable/modules/preprocessing.html\n",
            "Please also refer to the documentation for alternative solver options:\n",
            "    https://scikit-learn.org/stable/modules/linear_model.html#logistic-regression\n",
            "  n_iter_i = _check_optimize_result(\n"
          ]
        }
      ]
    },
    {
      "cell_type": "markdown",
      "source": [
        "## Random Forest"
      ],
      "metadata": {
        "id": "WIv8cys2NIKy"
      },
      "id": "WIv8cys2NIKy"
    },
    {
      "cell_type": "code",
      "source": [
        "#CALCULATING INITIAL TIME FOR CONFUSION MATRIX\n",
        "rf_start_time = current_milli_time()\n",
        "#RANDOM FOREST CLASSIFICATION OBJECT THAT CALCULATES GINI\n",
        "rfc = RandomForestClassifier(n_estimators=100, criterion='gini')\n",
        "#FITTING DATA INTO MODEL\n",
        "rfc.fit(x_train, y_train)\n",
        "#ENDING TIME OF MODEL TRAINING\n",
        "rf_end_time = current_milli_time()\n",
        "#TOTAL DURATION\n",
        "rf_duration = rf_end_time - rf_start_time\n",
        "#PREDICTING DATA\n",
        "y_pred_rfc = rfc.predict(x_test)\n",
        "#CONFUSION MATRIX\n",
        "cm_rfc = confusion_matrix(y_test, y_pred_rfc)\n",
        "#ACCURACY RATE\n",
        "ar_rfc = calculate_AR(cm_rfc)\n",
        "ar_rfc"
      ],
      "metadata": {
        "id": "awWsxVAbE0h5",
        "colab": {
          "base_uri": "https://localhost:8080/"
        },
        "outputId": "4354ed49-6034-4df2-9c07-d9fe9e17f787"
      },
      "execution_count": 163,
      "outputs": [
        {
          "output_type": "execute_result",
          "data": {
            "text/plain": [
              "0.7241379310344828"
            ]
          },
          "metadata": {},
          "execution_count": 163
        }
      ],
      "id": "awWsxVAbE0h5"
    },
    {
      "cell_type": "code",
      "source": [
        "#PRINTNG CONFUSION MATRIX OF RANDOM FOREST\n",
        "print(cm_rfc)"
      ],
      "metadata": {
        "colab": {
          "base_uri": "https://localhost:8080/"
        },
        "id": "_NbkQRcspL3W",
        "outputId": "5c2dde9b-0992-4c8d-e9ea-5c0ce38c57d7"
      },
      "id": "_NbkQRcspL3W",
      "execution_count": 179,
      "outputs": [
        {
          "output_type": "stream",
          "name": "stdout",
          "text": [
            "[[ 5  7]\n",
            " [ 1 16]]\n"
          ]
        }
      ]
    },
    {
      "cell_type": "markdown",
      "source": [
        "## Naive Bayes"
      ],
      "metadata": {
        "id": "o50EYILRNPw8"
      },
      "id": "o50EYILRNPw8"
    },
    {
      "cell_type": "code",
      "source": [
        "#NAIVE BAYES CLASSIFIER\n",
        "#CALCULATING INITIAL TIME\n",
        "nbstart_time = current_milli_time()\n",
        "#NAIVE BAYES CLASSIFIER\n",
        "gnb = GaussianNB()\n",
        "#TRAINING DATA\n",
        "gnb.fit(x_train,y_train)\n",
        "#CALCULATING ENDING TIME\n",
        "nbend_time = current_milli_time()\n",
        "#CALCULATING TOTAL DURATION\n",
        "NBduration = nbend_time - nbstart_time\n",
        "#PREDICTING DATA\n",
        "y_pred_nb = gnb.predict(x_test)\n",
        "#CONFUSION MATRIX\n",
        "cm_nb = confusion_matrix(y_test,y_pred_nb)\n",
        "#CALCULATING ACCURACY RATE\n",
        "ar_nb = calculate_AR(cm_nb)\n",
        "ar_nb"
      ],
      "metadata": {
        "colab": {
          "base_uri": "https://localhost:8080/"
        },
        "id": "adeVMDL-1-EV",
        "outputId": "1baf0a72-accd-43a4-e4d0-566bb37bc9ba"
      },
      "id": "adeVMDL-1-EV",
      "execution_count": 164,
      "outputs": [
        {
          "output_type": "execute_result",
          "data": {
            "text/plain": [
              "0.7931034482758621"
            ]
          },
          "metadata": {},
          "execution_count": 164
        }
      ]
    },
    {
      "cell_type": "code",
      "source": [
        "#CONFUSION MATRIX FOR NAIVE BAYES\n",
        "print(cm_nb)"
      ],
      "metadata": {
        "colab": {
          "base_uri": "https://localhost:8080/"
        },
        "id": "IF-mxfbKpVR-",
        "outputId": "5cb1dec1-f62f-4092-9b89-ee1d0cbc4405"
      },
      "id": "IF-mxfbKpVR-",
      "execution_count": 180,
      "outputs": [
        {
          "output_type": "stream",
          "name": "stdout",
          "text": [
            "[[ 9  3]\n",
            " [ 3 14]]\n"
          ]
        }
      ]
    },
    {
      "cell_type": "markdown",
      "source": [
        "## KNN Classifier"
      ],
      "metadata": {
        "id": "-BQdrGZONfU4"
      },
      "id": "-BQdrGZONfU4"
    },
    {
      "cell_type": "code",
      "source": [
        "#KNN CLASSIFIER\n",
        "#CALCULATING INITIAL TIME\n",
        "knnstart_time = current_milli_time()\n",
        "#CREATING OBJECT OF KNN CLASSIFIER\n",
        "knn = KNeighborsClassifier()\n",
        "#TRAINING DATA\n",
        "knn.fit(x_train,y_train)\n",
        "#OBTAINING ENDING TIME\n",
        "knnend_time = current_milli_time()\n",
        "#TOTAL DURATION\n",
        "knnduration=knnend_time - knnstart_time\n",
        "#PREDICTING DATA\n",
        "y_pred_knn = knn.predict(x_test)\n",
        "#CONFUSION MATRIX\n",
        "cm_knn = confusion_matrix(y_test,y_pred_knn)\n",
        "#ACCURACY RATE\n",
        "ar_knn = calculate_AR(cm_knn)\n",
        "ar_knn"
      ],
      "metadata": {
        "id": "U2IPG3812IRu",
        "colab": {
          "base_uri": "https://localhost:8080/"
        },
        "outputId": "9b107772-02a1-4c3b-ea96-ce6a45d8170b"
      },
      "execution_count": 165,
      "outputs": [
        {
          "output_type": "execute_result",
          "data": {
            "text/plain": [
              "0.5517241379310345"
            ]
          },
          "metadata": {},
          "execution_count": 165
        }
      ],
      "id": "U2IPG3812IRu"
    },
    {
      "cell_type": "code",
      "source": [
        "#CONFUSION MATRIX OF KNN\n",
        "print(cm_knn)"
      ],
      "metadata": {
        "colab": {
          "base_uri": "https://localhost:8080/"
        },
        "id": "QkurwxfxpZxd",
        "outputId": "0d57b5cd-e90e-48de-8893-4e33e9eee1bd"
      },
      "id": "QkurwxfxpZxd",
      "execution_count": 181,
      "outputs": [
        {
          "output_type": "stream",
          "name": "stdout",
          "text": [
            "[[ 1 11]\n",
            " [ 2 15]]\n"
          ]
        }
      ]
    },
    {
      "cell_type": "markdown",
      "source": [
        "## Decision Tree"
      ],
      "metadata": {
        "id": "Xm7iLyZgNj8K"
      },
      "id": "Xm7iLyZgNj8K"
    },
    {
      "cell_type": "code",
      "source": [
        "model2 = DecisionTreeClassifier()\n",
        "e = LabelEncoder()\n",
        "df['Sex'] = le.fit_transform(df['Sex'])\n",
        "#df['classification'] = le.fit_transform(df['classification'])\n",
        "\n",
        "# Split the data into features and target\n",
        "X = df[['Survived','Pclass', 'Age', 'SibSp', 'Parch', 'Fare', 'Sex']]\n",
        "y = df['classification']\n",
        "\n",
        "\n",
        "\n",
        "# Fit the model to the data\n",
        "model2.fit(X, y)\n",
        "\n",
        "# Predict the class labels for the data\n",
        "predictions = model2.predict(X)\n",
        "prediction_DecisionTree = model2.score(X, y)\n",
        "# Print the accuracy of the model\n",
        "print( prediction_DecisionTree )\n",
        "\n",
        "\n",
        "# Create a confusion matrix\n",
        "cm = confusion_matrix(df['classification'], predictions)\n",
        "\n",
        "# Print the confusion matrix\n",
        "print(cm)"
      ],
      "metadata": {
        "colab": {
          "base_uri": "https://localhost:8080/"
        },
        "id": "jXMYYTXzaIUe",
        "outputId": "59710cdf-f103-47ce-ffac-0ec28eaa5632"
      },
      "id": "jXMYYTXzaIUe",
      "execution_count": 172,
      "outputs": [
        {
          "output_type": "stream",
          "name": "stdout",
          "text": [
            "1.0\n",
            "[[47  0  0  0]\n",
            " [ 0  4  0  0]\n",
            " [ 0  0 58  0]\n",
            " [ 0  0  0 35]]\n"
          ]
        }
      ]
    },
    {
      "cell_type": "markdown",
      "source": [
        "## Accuracy"
      ],
      "metadata": {
        "id": "RHnGn2BgNq2H"
      },
      "id": "RHnGn2BgNq2H"
    },
    {
      "cell_type": "code",
      "source": [
        "# Printing the results\n",
        "print(\"\")\n",
        "\n",
        "print(\"Logistic Regression\", accuracy_regression)\n",
        "print(\"Random Forest Classifation\", ar_rfc)\n",
        "print(\"Decision Tree Classifier\", prediction_DecisionTree)\n",
        "print(\"Naive Bayes Classifier\", ar_nb)\n",
        "print(\"KNN Classifier\", ar_knn )\n"
      ],
      "metadata": {
        "colab": {
          "base_uri": "https://localhost:8080/"
        },
        "id": "n3Qh4u9p2NiO",
        "outputId": "9a666e57-a274-49c9-dce8-f87507dec248"
      },
      "id": "n3Qh4u9p2NiO",
      "execution_count": 173,
      "outputs": [
        {
          "output_type": "stream",
          "name": "stdout",
          "text": [
            "\n",
            "Logistic Regression 0.9791666666666666\n",
            "Random Forest Classifation 0.7241379310344828\n",
            "Decision Tree Classifier 1.0\n",
            "Naive Bayes Classifier 0.7931034482758621\n",
            "KNN Classifier 0.5517241379310345\n"
          ]
        }
      ]
    }
  ],
  "metadata": {
    "jupytext": {
      "cell_metadata_filter": "-all",
      "encoding": "# -*- coding: utf-8 -*-",
      "main_language": "python",
      "notebook_metadata_filter": "-all"
    },
    "colab": {
      "provenance": []
    },
    "language_info": {
      "name": "python"
    },
    "kernelspec": {
      "name": "python3",
      "display_name": "Python 3"
    }
  },
  "nbformat": 4,
  "nbformat_minor": 5
}